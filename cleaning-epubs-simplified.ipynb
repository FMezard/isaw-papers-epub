{
 "cells": [
  {
   "cell_type": "markdown",
   "metadata": {},
   "source": [
    "# Preparing the HTML for articles 1 to 8 files before turning them into ePubs"
   ]
  },
  {
   "cell_type": "code",
   "execution_count": 4,
   "metadata": {},
   "outputs": [
    {
     "name": "stderr",
     "output_type": "stream",
     "text": [
      "/anaconda3/lib/python3.6/site-packages/bs4/__init__.py:181: UserWarning: No parser was explicitly specified, so I'm using the best available HTML parser for this system (\"lxml\"). This usually isn't a problem, but if you run this code on another system, or in a different virtual environment, it may use a different parser and behave differently.\n",
      "\n",
      "The code that caused this warning is on line 193 of the file /anaconda3/lib/python3.6/runpy.py. To get rid of this warning, change code that looks like this:\n",
      "\n",
      " BeautifulSoup(YOUR_MARKUP})\n",
      "\n",
      "to this:\n",
      "\n",
      " BeautifulSoup(YOUR_MARKUP, \"lxml\")\n",
      "\n",
      "  markup_type=markup_type))\n"
     ]
    }
   ],
   "source": [
    "from bs4 import BeautifulSoup\n",
    "import re\n",
    "import os\n",
    "\n",
    "for i in range(1, 9):\n",
    "    try:\n",
    "        if not os.path.exists(str(i)):\n",
    "            os.makedirs(str(i))\n",
    "            os.makedirs(str(i)+'/images')\n",
    "    except OSError:\n",
    "        print ('Error: Creating directory. ' +  directory)\n",
    "    with open('isaw-papers/isaw-papers-'+str(i)+'/isaw-papers-'+str(i)+'.xhtml') as paper:\n",
    "        soup = BeautifulSoup(paper)\n",
    "\n",
    "    #suppress metatags\n",
    "    selects = soup.findAll(['meta'])\n",
    "    for match in selects:\n",
    "        match.decompose()\n",
    "\n",
    "    #suppress links, except for the one linking to the css fil\n",
    "    links = soup.link.find_all()\n",
    "\n",
    "    dcterms = soup.find_all(\"link\", {\"rel\" : re.compile(\"dcterms*\")})\n",
    "    for match in dcterms :\n",
    "        match.decompose()\n",
    "\n",
    "    schema = soup.find_all(\"link\", {\"rel\" : re.compile(\"schema*\")})\n",
    "    for match in schema :\n",
    "        match.decompose()\n",
    "\n",
    "\n",
    "    # All the \"property\" and \"typeof\" attributes are suppressed as well as rel=\"any rdf vocab\"\n",
    "    prop = soup.find_all(property=True)\n",
    "    typeof = soup.find_all(typeof=True)\n",
    "    dc = soup.find_all(rel=re.compile(\"dcterms*\"))\n",
    "    rdf = soup.find_all(rel=re.compile(\"rdf*\"))\n",
    "    foaf= soup.find_all(rel=re.compile(\"foaf*\"))\n",
    "\n",
    "    for match in prop :\n",
    "        del match['property']\n",
    "\n",
    "    for match in typeof :\n",
    "        del match['typeof']\n",
    "\n",
    "    for match in dc :\n",
    "        del match['rel']\n",
    "\n",
    "    for match in rdf :\n",
    "        del match['rel']\n",
    "\n",
    "    for match in foaf :\n",
    "        del match['rel']\n",
    "        \n",
    "    with open(str(i)+'/isaw-papers-'+str(i)+'-ereaders.xhtml', 'w') as paper:\n",
    "        paper.write(str(soup))"
   ]
  },
  {
   "cell_type": "markdown",
   "metadata": {},
   "source": []
  }
 ],
 "metadata": {
  "kernelspec": {
   "display_name": "Python 3",
   "language": "python",
   "name": "python3"
  },
  "language_info": {
   "codemirror_mode": {
    "name": "ipython",
    "version": 3
   },
   "file_extension": ".py",
   "mimetype": "text/x-python",
   "name": "python",
   "nbconvert_exporter": "python",
   "pygments_lexer": "ipython3",
   "version": "3.6.4"
  }
 },
 "nbformat": 4,
 "nbformat_minor": 2
}
