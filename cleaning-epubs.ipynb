{
 "cells": [
  {
   "cell_type": "markdown",
   "metadata": {},
   "source": [
    "# Preparing the HTML files before turning them into ePubs"
   ]
  },
  {
   "cell_type": "code",
   "execution_count": 1,
   "metadata": {},
   "outputs": [
    {
     "name": "stderr",
     "output_type": "stream",
     "text": [
      "/anaconda3/lib/python3.6/site-packages/bs4/__init__.py:181: UserWarning: No parser was explicitly specified, so I'm using the best available HTML parser for this system (\"lxml\"). This usually isn't a problem, but if you run this code on another system, or in a different virtual environment, it may use a different parser and behave differently.\n",
      "\n",
      "The code that caused this warning is on line 193 of the file /anaconda3/lib/python3.6/runpy.py. To get rid of this warning, change code that looks like this:\n",
      "\n",
      " BeautifulSoup(YOUR_MARKUP})\n",
      "\n",
      "to this:\n",
      "\n",
      " BeautifulSoup(YOUR_MARKUP, \"lxml\")\n",
      "\n",
      "  markup_type=markup_type))\n"
     ]
    }
   ],
   "source": [
    "from bs4 import BeautifulSoup\n",
    "import re\n",
    "import os\n",
    "\n",
    "for i in range(9, 13):\n",
    "    try:\n",
    "        if not os.path.exists('isaw-papers-'+str(i)+'-ereaders'):\n",
    "            os.makedirs('isaw-papers-'+str(i)+'-ereaders')\n",
    "            os.makedirs('isaw-papers-'+str(i)+'-ereaders/images')\n",
    "    except OSError:\n",
    "        \n",
    "        print ('Error: Creating directory. ' +  directory)\n",
    "    with open('isaw-papers/isaw-papers-'+str(i)+'/isaw-papers-'+str(i)+'.xhtml') as paper:\n",
    "        soup = BeautifulSoup(paper)\n",
    "\n",
    "    #suppress metatags\n",
    "    selects = soup.findAll(['meta'])\n",
    "    for match in selects:\n",
    "        match.decompose()\n",
    "\n",
    "    #suppress links, except for the one linking to the css fil\n",
    "    links = soup.link.find_all()\n",
    "\n",
    "    dcterms = soup.find_all(\"link\", {\"rel\" : re.compile(\"dcterms*\")})\n",
    "    for match in dcterms :\n",
    "        match.decompose()\n",
    "\n",
    "    schema = soup.find_all(\"link\", {\"rel\" : re.compile(\"schema*\")})\n",
    "    for match in schema :\n",
    "        match.decompose()\n",
    "\n",
    "    ## use the stylesheet adapted to the ereaders\n",
    "    css = soup.head.link\n",
    "    css['href']= '../isaw-ereaders.css'\n",
    "\n",
    "    # Changing the h2 tags of the header into h3s\n",
    "    h2_header = soup.header.h2\n",
    "    h2_header.name = 'h3'\n",
    "    h2_header = soup.header.h2\n",
    "    h2_header.name = 'h3'\n",
    "\n",
    "    # All the \"property\" and \"typeof\" attributes are suppressed as well as rel=\"any rdf vocab\"\n",
    "    prop = soup.find_all(property=True)\n",
    "    typeof = soup.find_all(typeof=True)\n",
    "    dc = soup.find_all(rel=re.compile(\"dcterms*\"))\n",
    "    rdf = soup.find_all(rel=re.compile(\"rdf*\"))\n",
    "    foaf= soup.find_all(rel=re.compile(\"foaf*\"))\n",
    "\n",
    "    for match in prop :\n",
    "        del match['property']\n",
    "\n",
    "    for match in typeof :\n",
    "        del match['typeof']\n",
    "\n",
    "    for match in dc :\n",
    "        del match['rel']\n",
    "\n",
    "    for match in rdf :\n",
    "        del match['rel']\n",
    "\n",
    "    for match in foaf :\n",
    "        del match['rel']\n",
    "        \n",
    "    with open('isaw-papers-'+str(i)+'-ereaders/isaw-papers-'+str(i)+'-ereaders.xhtml', 'w') as paper:\n",
    "        paper.write(str(soup))"
   ]
  },
  {
   "cell_type": "code",
   "execution_count": 2,
   "metadata": {},
   "outputs": [],
   "source": [
    "#changing the path to the videos and images\n",
    "for i in range (9, 13):\n",
    "    with open('isaw-papers-'+str(i)+'-ereaders/isaw-papers-'+str(i)+'-ereaders.xhtml', 'r') as paper:\n",
    "        isawPaper = paper.read()\n",
    "    with open('isaw-papers-'+str(i)+'-ereaders/isaw-papers-'+str(i)+'-ereaders.xhtml', 'w') as paper:\n",
    "        isawPaper = isawPaper.replace('animations/', '../Video/')\n",
    "        paper.write(isawPaper)"
   ]
  },
  {
   "cell_type": "markdown",
   "metadata": {},
   "source": [
    "## ePub with links instead of embedded videos\n",
    "stayed with 11 as it was the only one with videos"
   ]
  },
  {
   "cell_type": "code",
   "execution_count": 7,
   "metadata": {},
   "outputs": [
    {
     "name": "stderr",
     "output_type": "stream",
     "text": [
      "/anaconda3/lib/python3.6/site-packages/bs4/__init__.py:181: UserWarning: No parser was explicitly specified, so I'm using the best available HTML parser for this system (\"lxml\"). This usually isn't a problem, but if you run this code on another system, or in a different virtual environment, it may use a different parser and behave differently.\n",
      "\n",
      "The code that caused this warning is on line 193 of the file /anaconda3/lib/python3.6/runpy.py. To get rid of this warning, change code that looks like this:\n",
      "\n",
      " BeautifulSoup(YOUR_MARKUP})\n",
      "\n",
      "to this:\n",
      "\n",
      " BeautifulSoup(YOUR_MARKUP, \"lxml\")\n",
      "\n",
      "  markup_type=markup_type))\n"
     ]
    }
   ],
   "source": [
    "with open('isaw-papers-11-ereaders/isaw-papers-11-ereaders.xhtml', 'r') as paper:\n",
    "    soup = BeautifulSoup(paper)\n",
    "\n",
    "sources_webm = soup.find_all(\"source\", {\"type\":\"video/webm\"})\n",
    "for source_webm in sources_webm :\n",
    "    source_webm.decompose()\n",
    "    \n",
    "sources = soup.find_all(\"source\")\n",
    "for source in sources :\n",
    "    source.name=\"a\"\n",
    "    del source[\"type\"]\n",
    "\n",
    "soup.prettify()\n",
    "\n",
    "with open('isaw-papers-11-ereaders/isaw-papers-11-ereaders-light.xhtml', 'w') as paper:\n",
    "    paper.write(str(soup))\n",
    "    \n",
    "with open('isaw-papers-11-ereaders/isaw-papers-11-ereaders-light.xhtml', 'r') as paper:\n",
    "    isawPaper = paper.read()\n",
    "    isawPaper = isawPaper.replace('../Video/','http://dlib.nyu.edu/awdl/isaw/isaw-papers/11/animations/')\n",
    "    isawPaper = isawPaper.replace('a src','a href')\n",
    "    isawPaper = isawPaper.replace('<video controls=\"yes\" width=\"100%\">','')\n",
    "    isawPaper = isawPaper.replace('</video>','')\n",
    "    isawPaper = isawPaper.replace('Your browser does not support the video tag.','')\n",
    "    isawPaper = isawPaper.replace('mp4\"/>','mp4\">Click here for the link</a>')\n",
    "with open('isaw-papers-11-ereaders/isaw-papers-11-ereaders-light.xhtml', 'w') as paper:\n",
    "    paper.write(isawPaper)\n"
   ]
  },
  {
   "cell_type": "markdown",
   "metadata": {},
   "source": [
    "## Making a cover "
   ]
  },
  {
   "cell_type": "code",
   "execution_count": 8,
   "metadata": {},
   "outputs": [
    {
     "name": "stderr",
     "output_type": "stream",
     "text": [
      "/anaconda3/lib/python3.6/site-packages/bs4/__init__.py:181: UserWarning: No parser was explicitly specified, so I'm using the best available HTML parser for this system (\"lxml\"). This usually isn't a problem, but if you run this code on another system, or in a different virtual environment, it may use a different parser and behave differently.\n",
      "\n",
      "The code that caused this warning is on line 193 of the file /anaconda3/lib/python3.6/runpy.py. To get rid of this warning, change code that looks like this:\n",
      "\n",
      " BeautifulSoup(YOUR_MARKUP})\n",
      "\n",
      "to this:\n",
      "\n",
      " BeautifulSoup(YOUR_MARKUP, \"lxml\")\n",
      "\n",
      "  markup_type=markup_type))\n"
     ]
    }
   ],
   "source": [
    "for i in range (9, 13):\n",
    "    with open('isaw-papers-'+str(i)+'-ereaders/isaw-papers-'+str(i)+'-ereaders.xhtml') as paper:\n",
    "        soup = BeautifulSoup(paper)\n",
    "    title = soup.header.h1\n",
    "    css = soup.head.link\n",
    "    css['href']= '../isaw-ereaders-cover.css'\n",
    "    header = soup.header\n",
    "    h3 = header.find_all([\"h3\"])\n",
    "    copyrights = soup.find(\"p\", {\"class\":\"copyright\"})\n",
    "    stylesheet = soup.find(\"link\", {\"rel\":\"stylesheet\"})\n",
    "\n",
    "    with open('isaw-papers-'+str(i)+'-ereaders/cover-'+str(i)+'.xhtml', 'w') as cover:\n",
    "        cover.write('''<?xml version=\"1.0\" encoding=\"UTF-8\"?>\n",
    "<!DOCTYPE html> <html xmlns=\"http://www.w3.org/1999/xhtml\"> \n",
    "<head>\n",
    "<title>Cover</title>'''\n",
    "+ str(stylesheet)\n",
    "+ '</head><body>'\n",
    "+ str(title)\n",
    "+ str(h3[1])\n",
    "+ str(h3[0])\n",
    "+ str(copyrights)  \n",
    "+'</body> </html>')"
   ]
  }
 ],
 "metadata": {
  "kernelspec": {
   "display_name": "Python 3",
   "language": "python",
   "name": "python3"
  },
  "language_info": {
   "codemirror_mode": {
    "name": "ipython",
    "version": 3
   },
   "file_extension": ".py",
   "mimetype": "text/x-python",
   "name": "python",
   "nbconvert_exporter": "python",
   "pygments_lexer": "ipython3",
   "version": "3.6.4"
  }
 },
 "nbformat": 4,
 "nbformat_minor": 2
}
