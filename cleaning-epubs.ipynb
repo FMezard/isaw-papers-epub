{
 "cells": [
  {
   "cell_type": "markdown",
   "metadata": {},
   "source": [
    "# Preparing the HTML files before turning them into ePubs"
   ]
  },
  {
   "cell_type": "code",
   "execution_count": 6,
   "metadata": {},
   "outputs": [],
   "source": [
    "from bs4 import BeautifulSoup\n",
    "import re\n",
    "import os\n",
    "import shutil"
   ]
  },
  {
   "cell_type": "code",
   "execution_count": 9,
   "metadata": {},
   "outputs": [
    {
     "name": "stderr",
     "output_type": "stream",
     "text": [
      "/anaconda3/lib/python3.6/site-packages/bs4/__init__.py:181: UserWarning: No parser was explicitly specified, so I'm using the best available HTML parser for this system (\"lxml\"). This usually isn't a problem, but if you run this code on another system, or in a different virtual environment, it may use a different parser and behave differently.\n",
      "\n",
      "The code that caused this warning is on line 193 of the file /anaconda3/lib/python3.6/runpy.py. To get rid of this warning, change code that looks like this:\n",
      "\n",
      " BeautifulSoup(YOUR_MARKUP})\n",
      "\n",
      "to this:\n",
      "\n",
      " BeautifulSoup(YOUR_MARKUP, \"lxml\")\n",
      "\n",
      "  markup_type=markup_type))\n"
     ]
    }
   ],
   "source": [
    "for i in range(1, 14):\n",
    "    with open('isaw-papers/isaw-papers-'+str(i)+'/isaw-papers-'+str(i)+'.xhtml') as paper:\n",
    "        soup = BeautifulSoup(paper)\n",
    "\n",
    "    #div instead of h2\n",
    "    if soup.header and soup.header.h2 :\n",
    "        h2_header = soup.header.find_all('h2')\n",
    "        for h2 in h2_header :\n",
    "            h2.name = 'div'\n",
    "    \n",
    "    css = soup.find(\"link\", {\"rel\" : re.compile(\"stylesheet*\")})\n",
    "    css['href']= '../isaw-ereaders.css'\n",
    "    \n",
    "    #getting rid of h2 in order to avoid page break \n",
    "    h4s = soup.find_all('h4')\n",
    "    for h4 in h4s :\n",
    "        h4.name = 'h5'\n",
    "    \n",
    "    h3s = soup.find_all('h3')\n",
    "    for h3 in h3s :\n",
    "        h3.name = 'h4'\n",
    "    \n",
    "    h2s = soup.find_all('h2')\n",
    "    for h2 in h2s :\n",
    "        h2.name = 'h3'\n",
    "    \n",
    "    \n",
    "    # adding alt to the images that have figcaptions\n",
    "    images = soup.find_all(\"figure\")\n",
    "\n",
    "    for image in images :\n",
    "        if image.figcaption :\n",
    "            alternative = image.figcaption.get_text()\n",
    "        if image.img :\n",
    "            image.img[\"alt\"]=alternative\n",
    "                \n",
    "    # links to the full size images \n",
    "    for image in images :\n",
    "        if image.img :\n",
    "            caption = image.figcaption\n",
    "            try :\n",
    "                ids = image[\"id\"]\n",
    "            except KeyError :\n",
    "                try :\n",
    "                    ids = image.img[\"id\"]\n",
    "                except:\n",
    "                    try :\n",
    "                        ids = image.p[\"id\"]\n",
    "                    except :\n",
    "                        print (\"id not found\")\n",
    "            if caption :\n",
    "                caption.append('<br/><a href=\"http://dlib.nyu.edu/awdl/isaw/isaw-papers/'+str(i)+'/#'+ids+'\">Full size image here ↗</a>')\n",
    "            else :\n",
    "                image.append('<br/><a href=\"http://dlib.nyu.edu/awdl/isaw/isaw-papers/'+str(i)+'/#'+ids+'\">Full size image here ↗</a>')\n",
    "\n",
    "    soup = str(soup).replace(\"&gt;\", \">\")\n",
    "    soup = str(soup).replace(\"&lt;\", \"<\")\n",
    "\n",
    "\n",
    "    with open(str(i)+'/isaw-papers-'+str(i)+'-ereaders.xhtml', 'w') as paper:\n",
    "        paper.write(str(soup))"
   ]
  },
  {
   "cell_type": "markdown",
   "metadata": {},
   "source": [
    "## ePub with links instead of embedded videos\n",
    "stayed with 11 as it was the only one with videos"
   ]
  },
  {
   "cell_type": "code",
   "execution_count": 5,
   "metadata": {
    "scrolled": true
   },
   "outputs": [
    {
     "name": "stderr",
     "output_type": "stream",
     "text": [
      "/anaconda3/lib/python3.6/site-packages/bs4/__init__.py:181: UserWarning: No parser was explicitly specified, so I'm using the best available HTML parser for this system (\"lxml\"). This usually isn't a problem, but if you run this code on another system, or in a different virtual environment, it may use a different parser and behave differently.\n",
      "\n",
      "The code that caused this warning is on line 193 of the file /anaconda3/lib/python3.6/runpy.py. To get rid of this warning, change code that looks like this:\n",
      "\n",
      " BeautifulSoup(YOUR_MARKUP})\n",
      "\n",
      "to this:\n",
      "\n",
      " BeautifulSoup(YOUR_MARKUP, \"lxml\")\n",
      "\n",
      "  markup_type=markup_type))\n"
     ]
    }
   ],
   "source": [
    "with open('11/isaw-papers-11-ereaders.xhtml', 'r') as paper:\n",
    "    soup = BeautifulSoup(paper)\n",
    "\n",
    "sources_webm = soup.find_all(\"source\", {\"type\":\"video/webm\"})\n",
    "for source_webm in sources_webm :\n",
    "    source_webm.decompose()\n",
    "    \n",
    "sources = soup.find_all(\"source\")\n",
    "for source in sources :\n",
    "    source.name=\"a\"\n",
    "    del source[\"type\"]\n",
    "\n",
    "soup.prettify()\n",
    "\n",
    "with open('11/isaw-papers-11-ereaders.xhtml', 'w') as paper:\n",
    "    paper.write(str(soup))\n",
    "    \n",
    "with open('11/isaw-papers-11-ereaders.xhtml', 'r') as paper:\n",
    "    isawPaper = paper.read()\n",
    "    isawPaper = isawPaper.replace('../Video/','http://dlib.nyu.edu/awdl/isaw/isaw-papers/11/animations/')\n",
    "    isawPaper = isawPaper.replace('a src','a href')\n",
    "    isawPaper = isawPaper.replace('<video controls=\"yes\" width=\"100%\">','')\n",
    "    isawPaper = isawPaper.replace('</video>','')\n",
    "    isawPaper = isawPaper.replace('Your browser does not support the video tag.','')\n",
    "    isawPaper = isawPaper.replace('mp4\"/>','mp4\">Click here for the link</a>')\n",
    "with open('11/isaw-papers-11-ereaders.xhtml', 'w') as paper:\n",
    "    paper.write(isawPaper)\n"
   ]
  },
  {
   "cell_type": "code",
   "execution_count": 68,
   "metadata": {},
   "outputs": [],
   "source": [
    "# Copy the images from the isaw-papers file (only use that code once, before resizing the images)\n",
    "for i in range(1, 14):\n",
    "    if os.path.isdir(\"isaw-papers/isaw-papers-\"+str(i)+\"/images\"):\n",
    "        if os.path.isdir(str(i)+\"/images\"):\n",
    "            shutil.rmtree(str(i)+\"/images\")\n",
    "        shutil.copytree(\"isaw-papers/isaw-papers-\"+str(i)+\"/images\", str(i)+\"/images\")\n",
    "   \n",
    "        "
   ]
  },
  {
   "cell_type": "code",
   "execution_count": 3,
   "metadata": {},
   "outputs": [],
   "source": [
    "with open('7/isaw-papers-7-ereaders.xhtml', 'r') as paper:\n",
    "    text = paper.read()\n",
    "    text = text.replace(\"elliott-heath-muccigrosso/\", \"elliott-heath-muccigrosso/isaw-papers-7-1.xhtml\")\n",
    "    text = text.replace(\"acheson/\", \"acheson/isaw-papers-7-2.xhtml\")\n",
    "    text = text.replace(\"almas-babeu-krohn/\", \"almas-babeu-krohn/isaw-papers-7-3.xhtml\")\n",
    "    text = text.replace(\"benefiel-sprenkle/\", \"benefiel-sprenkle//isaw-papers-7-4.xhtml\")\n",
    "    text = text.replace(\"blackwell-smith/\", \"blackwell-smith//isaw-papers-7-5.xhtml\")\n",
    "    text = text.replace(\"elliott-jones/\", \"elliott-jones/isaw-papers-7-6.xhtml\")\n",
    "    text = text.replace(\"hafford/\", \"hafford/isaw-papers-7-7.xhtml\")\n",
    "    text = text.replace(\"heath/\", \"heath/isaw-papers-7-8.xhtml\")\n",
    "    text = text.replace(\"horne/\", \"horne/isaw-papers-7-9.xhtml\")\n",
    "    text = text.replace(\"kansa/\", \"kansa/isaw-papers-7-10.xhtml\")\n",
    "    text = text.replace(\"lana/\", \"lana/isaw-papers-7-11.xhtml\")\n",
    "    text = text.replace(\"liuzzo/\", \"liuzzo/isaw-papers-7-12.xhtml\")\n",
    "    text = text.replace(\"mackay/\", \"mackay/isaw-papers-7-13.xhtml\")\n",
    "    text = text.replace(\"mcmichael/\", \"mcmichael/isaw-papers-7-14.xhtml\")\n",
    "    text = text.replace(\"meadows-gruber/\", \"meadows-gruber/isaw-papers-7-15.xhtml\")\n",
    "    text = text.replace(\"meyers/\", \"meyers/isaw-papers-7-16.xhtml\")\n",
    "    text = text.replace(\"murray/\", \"murray/isaw-papers-7-17.xhtml\")\n",
    "    text = text.replace(\"nurmikko-fuller/\", \"nurmikko-fuller/isaw-papers-7-18.xhtml\")\n",
    "    text = text.replace(\"pearce-schmitz/\", \"pearce-schmitz/isaw-papers-7-19.xhtml\")\n",
    "    text = text.replace(\"pett/\", \"pett/isaw-papers-7-20.xhtml\")\n",
    "    text = text.replace(\"poehler/\", \"poehler/isaw-papers-7-21.xhtml\")\n",
    "    text = text.replace(\"rabinowitz/\", \"rabinowitz/isaw-papers-7-22.xhtml\")\n",
    "    text = text.replace(\"reinhard/\", \"reinhard/isaw-papers-7-23.xhtml\")\n",
    "    text = text.replace(\"romanello/\", \"romanello/isaw-papers-7-24.xhtml\")\n",
    "    text = text.replace(\"roueche-lawrence-lawrence/\", \"roueche-lawrence-lawrence/isaw-papers-7-25.xhtml\")\n",
    "    text = text.replace(\"seifried/\", \"seifried/isaw-papers-7-26.xhtml\")\n",
    "    text = text.replace(\"simon-barker-desoto-isaksen/\", \"simon-barker-desoto-isaksen/isaw-papers-7-27.xhtml\")\n",
    "    text = text.replace(\"taylor/\", \"taylor/isaw-papers-7-28.xhtml\")\n",
    "    text = text.replace(\"tsonev/\", \"tsonev/isaw-papers-7-29.xhtml\")\n",
    "    text = text.replace(\"vankeer/\", \"vankeer/isaw-papers-7-30.xhtml\")\n",
    "    \n",
    "with open('7/isaw-papers-7-ereaders.xhtml', 'w') as paper:\n",
    "    paper.write(text)\n",
    "        \n"
   ]
  }
 ],
 "metadata": {
  "kernelspec": {
   "display_name": "Python 3",
   "language": "python",
   "name": "python3"
  },
  "language_info": {
   "codemirror_mode": {
    "name": "ipython",
    "version": 3
   },
   "file_extension": ".py",
   "mimetype": "text/x-python",
   "name": "python",
   "nbconvert_exporter": "python",
   "pygments_lexer": "ipython3",
   "version": "3.6.4"
  }
 },
 "nbformat": 4,
 "nbformat_minor": 2
}
