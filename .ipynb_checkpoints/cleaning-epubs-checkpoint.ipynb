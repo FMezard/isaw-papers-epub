{
 "cells": [
  {
   "cell_type": "markdown",
   "metadata": {},
   "source": [
    "# Preparing the HTML files before turning them into ePubs"
   ]
  },
  {
   "cell_type": "code",
   "execution_count": 29,
   "metadata": {},
   "outputs": [
    {
     "name": "stderr",
     "output_type": "stream",
     "text": [
      "/anaconda3/lib/python3.6/site-packages/bs4/__init__.py:181: UserWarning: No parser was explicitly specified, so I'm using the best available HTML parser for this system (\"lxml\"). This usually isn't a problem, but if you run this code on another system, or in a different virtual environment, it may use a different parser and behave differently.\n",
      "\n",
      "The code that caused this warning is on line 193 of the file /anaconda3/lib/python3.6/runpy.py. To get rid of this warning, change code that looks like this:\n",
      "\n",
      " BeautifulSoup(YOUR_MARKUP})\n",
      "\n",
      "to this:\n",
      "\n",
      " BeautifulSoup(YOUR_MARKUP, \"lxml\")\n",
      "\n",
      "  markup_type=markup_type))\n"
     ]
    }
   ],
   "source": [
    "from bs4 import BeautifulSoup\n",
    "import re\n",
    "import os\n",
    "\n",
    "for i in range(1, 13):\n",
    "    try:\n",
    "        if not os.path.exists(str(i)):\n",
    "            os.makedirs(str(i))\n",
    "            os.makedirs(str(i)+'/images')\n",
    "    except OSError:\n",
    "        \n",
    "        print ('Error: Creating directory. ' +  directory)\n",
    "    with open('isaw-papers/isaw-papers-'+str(i)+'/isaw-papers-'+str(i)+'.xhtml') as paper:\n",
    "        soup = BeautifulSoup(paper)\n",
    "\n",
    "    #div instead of h2\n",
    "    if soup.header and soup.header.h2 :\n",
    "        h2_header = soup.header.find_all('h2')\n",
    "        for h2 in h2_header :\n",
    "            h2.name = 'div'\n",
    "            \n",
    "    css = soup.find(\"link\", {\"rel\" : re.compile(\"stylesheet*\")})\n",
    "    css['href']= '../isaw-ereaders.css'\n",
    "    \n",
    "    # adding alt to the images that have figcaptions\n",
    "    images = soup.find_all(\"figure\", id=True)\n",
    "\n",
    "    for image in images :\n",
    "        alternative = image.figcaption.get_text()\n",
    "        if image.img :\n",
    "            image.img[\"alt\"]=alternative\n",
    "            \n",
    "    # links to the full size images\n",
    "    # for the images in a <figure> tag\n",
    "    for image in images :\n",
    "        caption = image.figcaption\n",
    "        ids = image[\"id\"]\n",
    "        caption.append('<br/><a href=\"http://dlib.nyu.edu/awdl/isaw/isaw-papers/3/#'+ids+'\">Full size image here ↗</a>')\n",
    "    \n",
    "    # for the images in a <p> tag with an id\n",
    "    images_p = soup.find_all(\"p\", {\"class\":\"figure\"},id = True,)\n",
    "        \n",
    "    for image in images_p :\n",
    "        ids = image[\"id\"]\n",
    "        caption=image.find(\"p\",{\"class\": \"figure_caption\"})\n",
    "        if caption :\n",
    "            caption.append('<a href=\"http://dlib.nyu.edu/awdl/isaw/isaw-papers/3/#'+ids+'\">Full size image here ↗</a>')\n",
    "        # in that case, the link won't be centered\n",
    "        else :\n",
    "            image.append('<p><a href=\"http://dlib.nyu.edu/awdl/isaw/isaw-papers/3/#'+ids+'\">Full size image here ↗</a></p>')\n",
    "    soup = str(soup).replace(\"&gt;\", \">\")\n",
    "    soup = str(soup).replace(\"&lt;\", \"<\")\n",
    "        \n",
    "    \n",
    "    with open(str(i)+'/isaw-papers-'+str(i)+'-ereaders.xhtml', 'w') as paper:\n",
    "        paper.write(str(soup))"
   ]
  },
  {
   "cell_type": "markdown",
   "metadata": {},
   "source": [
    "## ePub with links instead of embedded videos\n",
    "stayed with 11 as it was the only one with videos"
   ]
  },
  {
   "cell_type": "code",
   "execution_count": 13,
   "metadata": {
    "scrolled": true
   },
   "outputs": [
    {
     "name": "stderr",
     "output_type": "stream",
     "text": [
      "/anaconda3/lib/python3.6/site-packages/bs4/__init__.py:181: UserWarning: No parser was explicitly specified, so I'm using the best available HTML parser for this system (\"lxml\"). This usually isn't a problem, but if you run this code on another system, or in a different virtual environment, it may use a different parser and behave differently.\n",
      "\n",
      "The code that caused this warning is on line 193 of the file /anaconda3/lib/python3.6/runpy.py. To get rid of this warning, change code that looks like this:\n",
      "\n",
      " BeautifulSoup(YOUR_MARKUP})\n",
      "\n",
      "to this:\n",
      "\n",
      " BeautifulSoup(YOUR_MARKUP, \"lxml\")\n",
      "\n",
      "  markup_type=markup_type))\n"
     ]
    }
   ],
   "source": [
    "with open('11/isaw-papers-11-ereaders.xhtml', 'r') as paper:\n",
    "    soup = BeautifulSoup(paper)\n",
    "\n",
    "sources_webm = soup.find_all(\"source\", {\"type\":\"video/webm\"})\n",
    "for source_webm in sources_webm :\n",
    "    source_webm.decompose()\n",
    "    \n",
    "sources = soup.find_all(\"source\")\n",
    "for source in sources :\n",
    "    source.name=\"a\"\n",
    "    del source[\"type\"]\n",
    "\n",
    "soup.prettify()\n",
    "\n",
    "with open('11/isaw-papers-11-ereaders-light.xhtml', 'w') as paper:\n",
    "    paper.write(str(soup))\n",
    "    \n",
    "with open('11/isaw-papers-11-ereaders-light.xhtml', 'r') as paper:\n",
    "    isawPaper = paper.read()\n",
    "    isawPaper = isawPaper.replace('../Video/','http://dlib.nyu.edu/awdl/isaw/isaw-papers/11/animations/')\n",
    "    isawPaper = isawPaper.replace('a src','a href')\n",
    "    isawPaper = isawPaper.replace('<video controls=\"yes\" width=\"100%\">','')\n",
    "    isawPaper = isawPaper.replace('</video>','')\n",
    "    isawPaper = isawPaper.replace('Your browser does not support the video tag.','')\n",
    "    isawPaper = isawPaper.replace('mp4\"/>','mp4\">Click here for the link</a>')\n",
    "with open('11/isaw-papers-11-ereaders-light.xhtml', 'w') as paper:\n",
    "    paper.write(isawPaper)\n"
   ]
  }
 ],
 "metadata": {
  "kernelspec": {
   "display_name": "Python 3",
   "language": "python",
   "name": "python3"
  },
  "language_info": {
   "codemirror_mode": {
    "name": "ipython",
    "version": 3
   },
   "file_extension": ".py",
   "mimetype": "text/x-python",
   "name": "python",
   "nbconvert_exporter": "python",
   "pygments_lexer": "ipython3",
   "version": "3.6.4"
  }
 },
 "nbformat": 4,
 "nbformat_minor": 2
}
