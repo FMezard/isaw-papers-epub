{
 "cells": [
  {
   "cell_type": "code",
   "execution_count": 5,
   "metadata": {},
   "outputs": [
    {
     "name": "stderr",
     "output_type": "stream",
     "text": [
      "/anaconda3/lib/python3.6/site-packages/bs4/__init__.py:181: UserWarning: No parser was explicitly specified, so I'm using the best available HTML parser for this system (\"lxml\"). This usually isn't a problem, but if you run this code on another system, or in a different virtual environment, it may use a different parser and behave differently.\n",
      "\n",
      "The code that caused this warning is on line 193 of the file /anaconda3/lib/python3.6/runpy.py. To get rid of this warning, change code that looks like this:\n",
      "\n",
      " BeautifulSoup(YOUR_MARKUP})\n",
      "\n",
      "to this:\n",
      "\n",
      " BeautifulSoup(YOUR_MARKUP, \"lxml\")\n",
      "\n",
      "  markup_type=markup_type))\n"
     ]
    }
   ],
   "source": [
    "from bs4 import BeautifulSoup\n",
    "\n",
    "for i in range(1, 13)  : \n",
    "    with open('isaw-papers/isaw-papers-'+str(i)+'/isaw-papers-'+str(i)+'.xhtml') as paper:\n",
    "        soup = BeautifulSoup(paper)\n",
    "    title  = soup.head.title.get_text()\n",
    "    \n",
    "    with open(str(i)+\"/title.txt\", \"w\") as title_page :\n",
    "        title_page.write(title)\n",
    "\n"
   ]
  },
  {
   "cell_type": "code",
   "execution_count": 3,
   "metadata": {},
   "outputs": [
    {
     "name": "stderr",
     "output_type": "stream",
     "text": [
      "/anaconda3/lib/python3.6/site-packages/bs4/__init__.py:181: UserWarning: No parser was explicitly specified, so I'm using the best available HTML parser for this system (\"lxml\"). This usually isn't a problem, but if you run this code on another system, or in a different virtual environment, it may use a different parser and behave differently.\n",
      "\n",
      "The code that caused this warning is on line 193 of the file /anaconda3/lib/python3.6/runpy.py. To get rid of this warning, change code that looks like this:\n",
      "\n",
      " BeautifulSoup(YOUR_MARKUP})\n",
      "\n",
      "to this:\n",
      "\n",
      " BeautifulSoup(YOUR_MARKUP, \"lxml\")\n",
      "\n",
      "  markup_type=markup_type))\n"
     ]
    }
   ],
   "source": [
    "from bs4 import BeautifulSoup\n",
    "import re\n",
    "import os\n",
    "\n",
    "for i in range (1, 13):\n",
    "\n",
    "    with open('isaw-papers/isaw-papers-'+str(i)+'/isaw-papers-'+str(i)+'.xhtml', 'r') as paper:\n",
    "        \n",
    "        soup = BeautifulSoup(paper)\n",
    "        \n",
    "    selects = soup.findAll(['meta'])\n",
    "    for match in selects:\n",
    "        match.decompose()\n",
    "\n",
    "    #suppress links, except for the one linking to the css file\n",
    "    links = soup.link.find_all()\n",
    "\n",
    "    dcterms = soup.find_all(\"link\", {\"rel\" : re.compile(\"dcterms*\")})\n",
    "    for match in dcterms :\n",
    "        match.decompose()\n",
    "\n",
    "    schema = soup.find_all(\"link\", {\"rel\" : re.compile(\"schema*\")})\n",
    "    for match in schema :\n",
    "        match.decompose()\n",
    "    \n",
    "    ## use the stylesheet adapted to the ereaders\n",
    "    css = soup.head.link\n",
    "    css['href']= '../isaw-ereaders.css'\n",
    "\n",
    "    # Changing the h2 tags of the header into div\n",
    "\n",
    "    h2_header = soup.header.h2\n",
    "    h2_header.name = 'div'\n",
    "    h2_header = soup.header.h2\n",
    "    h2_header.name = 'div'\n",
    "    \n",
    "    #the title in the head is printed at the beginning if not suppressed and it's redundant\n",
    "    soup.head.title.decompose()\n",
    "    \n",
    "    #videos do not work i am placing links instead (also good for e-readers which can only reade ePub2)\n",
    "    \n",
    "    sources_webm = soup.find_all(\"source\", {\"type\":\"video/webm\"})\n",
    "    for source_webm in sources_webm :\n",
    "        source_webm.decompose()\n",
    "\n",
    "    sources = soup.find_all(\"source\")\n",
    "    for source in sources :\n",
    "        source.name=\"a\"\n",
    "        del source[\"type\"]\n",
    "        \n",
    "\n",
    "        \n",
    "    with open(str(i)+'/isaw-papers-'+str(i)+'-pandoc.xhtml', 'w') as paper:\n",
    "        paper.write(str(soup))\n",
    "    with open(str(i)+'/isaw-papers-'+str(i)+'-pandoc.xhtml', 'r') as paper:\n",
    "        isawPaper = paper.read()\n",
    "    isawPaper = isawPaper.replace('animations/','http://dlib.nyu.edu/awdl/isaw/isaw-papers/11/animations/')\n",
    "    isawPaper = isawPaper.replace('a src','a href')\n",
    "    isawPaper = isawPaper.replace('<video controls=\"yes\" width=\"100%\">','')\n",
    "    isawPaper = isawPaper.replace('</video>','')\n",
    "    isawPaper = isawPaper.replace('Your browser does not support the video tag.','')\n",
    "    isawPaper = isawPaper.replace('mp4\"/>','mp4\">Click here for the link<br/></a>')\n",
    "    \n",
    "    with open(str(i)+'/isaw-papers-'+str(i)+'-pandoc.xhtml', 'w') as paper:\n",
    "        paper.write(isawPaper)\n",
    "    "
   ]
  },
  {
   "cell_type": "code",
   "execution_count": null,
   "metadata": {},
   "outputs": [],
   "source": []
  }
 ],
 "metadata": {
  "kernelspec": {
   "display_name": "Python 3",
   "language": "python",
   "name": "python3"
  },
  "language_info": {
   "codemirror_mode": {
    "name": "ipython",
    "version": 3
   },
   "file_extension": ".py",
   "mimetype": "text/x-python",
   "name": "python",
   "nbconvert_exporter": "python",
   "pygments_lexer": "ipython3",
   "version": "3.6.4"
  }
 },
 "nbformat": 4,
 "nbformat_minor": 2
}
